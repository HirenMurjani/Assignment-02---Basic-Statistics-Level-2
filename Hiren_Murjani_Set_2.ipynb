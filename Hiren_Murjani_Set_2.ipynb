{
  "nbformat": 4,
  "nbformat_minor": 0,
  "metadata": {
    "colab": {
      "provenance": []
    },
    "kernelspec": {
      "name": "python3",
      "display_name": "Python 3"
    },
    "language_info": {
      "name": "python"
    }
  },
  "cells": [
    {
      "cell_type": "markdown",
      "source": [
        "# Question 2(a)"
      ],
      "metadata": {
        "id": "Y-qbXA5511hQ"
      }
    },
    {
      "cell_type": "code",
      "execution_count": 19,
      "metadata": {
        "id": "4eNwaz88V0JL",
        "colab": {
          "base_uri": "https://localhost:8080/"
        },
        "outputId": "82ea6eff-aed2-4bdd-c041-35d38d3a526f"
      },
      "outputs": [
        {
          "output_type": "stream",
          "name": "stdout",
          "text": [
            "0.3413\n",
            "0.1587\n"
          ]
        }
      ],
      "source": [
        "import scipy.stats as stats\n",
        "import seaborn as sns\n",
        "import numpy as np\n",
        "\n",
        "q2_less_than_38 = stats.norm.cdf(38, loc = 38, scale = 6)\n",
        "q2_less_than_44 = stats.norm.cdf(44, loc = 38, scale = 6)\n",
        "q2_betweeen_38_and_44 = q2_less_than_44 - q2_less_than_38\n",
        "print(f\"{q2_betweeen_38_and_44:.4f}\")\n",
        "q2_morethan_44 = 1-stats.norm.cdf(44, loc = 38, scale = 6)\n",
        "print(f\"{q2_morethan_44:.4f}\")"
      ]
    },
    {
      "cell_type": "code",
      "source": [
        "q2b = stats.norm.cdf(36, loc = 38, scale = 6)\n",
        "print(f\"{q2b:.4f}\")"
      ],
      "metadata": {
        "colab": {
          "base_uri": "https://localhost:8080/"
        },
        "id": "iCt80Hcir4HE",
        "outputId": "02f61225-6b6b-4fa3-cc6f-43678c02dd86"
      },
      "execution_count": 25,
      "outputs": [
        {
          "output_type": "stream",
          "name": "stdout",
          "text": [
            "0.3694\n"
          ]
        }
      ]
    },
    {
      "cell_type": "markdown",
      "source": [
        "# Question 2(b)"
      ],
      "metadata": {
        "id": "il9d1AQe1lvV"
      }
    },
    {
      "cell_type": "code",
      "source": [
        "import scipy.stats as stats\n",
        "\n",
        "mean = 38\n",
        "std_dev = 6\n",
        "sample_value = 36\n",
        "\n",
        "z_score = (sample_value - mean) / std_dev\n",
        "\n",
        "# Calculate the probability.\n",
        "probability = stats.norm.cdf(z_score)\n",
        "\n",
        "# Set a threshold for eval\n",
        "threshold = 0.5\n",
        "\n",
        "expected = probability > threshold\n",
        "\n",
        "# Print results\n",
        "print(f\"The z-score for {sample_value} is approximately {z_score:.2f}\")\n",
        "print(f\"The probability is approximately {probability:.4f}\")\n",
        "print(f\"The statement is {is_expected}\")\n"
      ],
      "metadata": {
        "colab": {
          "base_uri": "https://localhost:8080/"
        },
        "id": "qUYNTgQWvrdN",
        "outputId": "10fe728d-892f-48d2-d047-ecabe73c066c"
      },
      "execution_count": 24,
      "outputs": [
        {
          "output_type": "stream",
          "name": "stdout",
          "text": [
            "The z-score for 36 is approximately -0.33\n",
            "The probability is approximately 0.3694\n",
            "The statement is False\n"
          ]
        }
      ]
    },
    {
      "cell_type": "markdown",
      "source": [
        "# Question 4"
      ],
      "metadata": {
        "id": "_h5kq_y71eZo"
      }
    },
    {
      "cell_type": "code",
      "source": [
        "import scipy.stats as stats\n",
        "import numpy as np\n",
        "\n",
        "mean = 100\n",
        "std_dev = 20\n",
        "confidence_level = 0.99\n",
        "\n",
        "a, b = stats.norm.interval(confidence_level, loc=mean, scale=std_dev)\n",
        "\n",
        "print(f\"The two values of a and b are {a:.2f},{b:.2f}\")"
      ],
      "metadata": {
        "colab": {
          "base_uri": "https://localhost:8080/"
        },
        "id": "yMN3_wePwGYB",
        "outputId": "ef665a48-18a1-43ba-eb85-0e4784d89bba"
      },
      "execution_count": 34,
      "outputs": [
        {
          "output_type": "stream",
          "name": "stdout",
          "text": [
            "The two values of a and b are 48.48,151.52\n"
          ]
        }
      ]
    },
    {
      "cell_type": "markdown",
      "source": [
        "# Question 5"
      ],
      "metadata": {
        "id": "aPVs2Xiz2YLH"
      }
    },
    {
      "cell_type": "code",
      "source": [
        "import scipy.stats as stats\n",
        "\n",
        "mean1, std_dev1 = 5, 3\n",
        "mean2, std_dev2 = 7, 4\n",
        "\n",
        "mean_total = mean1 + mean2\n",
        "stdev_total = (std_dev1**2 + std_dev2**2)**0.5\n",
        "\n",
        "# Calculate the 2.5th and 97.5th percentiles\n",
        "lower_bound, upper_bound = stats.norm.ppf(0.025, mean_total, stdev_total), stats.norm.ppf(0.975, mean_total, stdev_total)\n",
        "\n",
        "# Convert to Rupees (assuming $1 = Rs. 45)\n",
        "lower_bound_rupees, upper_bound_rupees = lower_bound * 45, upper_bound * 45\n",
        "\n",
        "print(f\"A. Rupee range: {lower_bound_rupees:.2f} to {upper_bound_rupees:.2f}\")\n",
        "\n",
        "# Calculate the 5th percentile\n",
        "\n",
        "fifth_percentile = stats.norm.ppf(0.05, mean_total, stdev_total)\n",
        "\n",
        "# Convert to Rupees\n",
        "fifth_percentile_rupees = fifth_percentile * 45\n",
        "\n",
        "print(f\"B. 5th percentile of profit (in Rupees): {fifth_percentile_rupees:.2f}\")\n",
        "\n",
        "# Calculate the CDFs at profit = 0\n",
        "\n",
        "cdf_profit1_at_0 = stats.norm.cdf(0, mean1, std_dev1)\n",
        "cdf_profit2_at_0 = stats.norm.cdf(0, mean2, std_dev2)\n",
        "\n",
        "# Compare the probabilities\n",
        "if cdf_profit1_at_0 > cdf_profit2_at_0:\n",
        "    print(\"C. Division 1 has a larger probability of making a loss.\")\n",
        "else:\n",
        "    print(\"C. Division 2 has a larger probability of making a loss.\")"
      ],
      "metadata": {
        "colab": {
          "base_uri": "https://localhost:8080/"
        },
        "id": "zTHMXp032ZfM",
        "outputId": "021c41cf-bb05-41ee-96d2-1e2f0f3d284a"
      },
      "execution_count": 39,
      "outputs": [
        {
          "output_type": "stream",
          "name": "stdout",
          "text": [
            "A. Rupee range: 99.01 to 980.99\n",
            "B. 5th percentile of profit (in Rupees): 169.91\n",
            "C. Division 1 has a larger probability of making a loss.\n"
          ]
        }
      ]
    }
  ]
}
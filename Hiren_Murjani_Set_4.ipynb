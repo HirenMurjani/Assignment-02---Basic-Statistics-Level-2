{
  "nbformat": 4,
  "nbformat_minor": 0,
  "metadata": {
    "colab": {
      "provenance": []
    },
    "kernelspec": {
      "name": "python3",
      "display_name": "Python 3"
    },
    "language_info": {
      "name": "python"
    }
  },
  "cells": [
    {
      "cell_type": "code",
      "source": [
        "import pandas as pd\n",
        "import numpy as np\n",
        "import matplotlib.pyplot as plt\n",
        "import scipy.stats as stats\n",
        "import seaborn as sns\n",
        "import statsmodels.api as smf\n",
        "import warnings\n",
        "warnings.filterwarnings('ignore')"
      ],
      "metadata": {
        "id": "Ofp2HgkLIuEz"
      },
      "execution_count": 1,
      "outputs": []
    },
    {
      "cell_type": "code",
      "source": [
        "import scipy.stats as stats\n",
        "\n",
        "mean = 50\n",
        "std = 40\n",
        "n = 100\n",
        "lower_bound = 45\n",
        "upper_bound = 55\n",
        "\n",
        "# Calculate standard error of the mean\n",
        "SE = std / (n ** 0.5)\n",
        "\n",
        "z_lower = (lower_bound - mean) / SE\n",
        "z_upper = (upper_bound - mean) / SE\n",
        "\n",
        "# Calculate the probability that the mean falls in range\n",
        "prob_in_range = stats.norm.cdf(z_upper) - stats.norm.cdf(z_lower)\n",
        "probability = (1-prob_in_range) * 100\n",
        "print(f\"Probability of investigation is : {probability:.2f}%\")"
      ],
      "metadata": {
        "colab": {
          "base_uri": "https://localhost:8080/"
        },
        "id": "A5iFC_CzJSrm",
        "outputId": "afc3b7ef-3612-45dd-9350-81f7d096cc80"
      },
      "execution_count": 7,
      "outputs": [
        {
          "output_type": "stream",
          "name": "stdout",
          "text": [
            "Probability of investigation is : 21.13%\n"
          ]
        }
      ]
    },
    {
      "cell_type": "markdown",
      "source": [
        "# Question 4"
      ],
      "metadata": {
        "id": "w4smqmmZcxrW"
      }
    },
    {
      "cell_type": "code",
      "source": [
        "x_bar = 45\n",
        "std = 40\n",
        "mean = 50\n",
        "df = n - 1\n",
        "\n",
        "t = np.round(stats.t.ppf(0.025, df = 249),2)\n",
        "\n",
        "# t_value = (x_bar - mew)/(sample_std/n**0.5)\n",
        "# t = 5/(40/n**0.5)\n",
        "# n = (sample_standard_deviation*tscore)/(sample_mean=population_mean)\n",
        "n = ((std*abs(t)) / (5))**2\n",
        "\n",
        "print(f'If the Auditors would like to maintain the probability of investigation to 5%, they should sample {n:.0f} transactions')"
      ],
      "metadata": {
        "colab": {
          "base_uri": "https://localhost:8080/"
        },
        "id": "02sd3GX7a3yo",
        "outputId": "da660829-5c9f-4d93-a8a3-4f117a35cef6"
      },
      "execution_count": 21,
      "outputs": [
        {
          "output_type": "stream",
          "name": "stdout",
          "text": [
            "If the Auditors would like to maintain the probability of investigation to 5%, they should sample 248 transactions\n"
          ]
        }
      ]
    }
  ]
}